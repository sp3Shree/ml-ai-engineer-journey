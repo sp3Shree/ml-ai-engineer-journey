{
 "cells": [
  {
   "cell_type": "code",
   "id": "2fbcc814",
   "metadata": {
    "ExecuteTime": {
     "end_time": "2025-07-20T03:12:31.874418Z",
     "start_time": "2025-07-20T03:12:28.400723Z"
    }
   },
   "source": [
    "import pandas as pd\n",
    "# import zipfile\n",
    "from sklearn.preprocessing import OneHotEncoder\n",
    "from sklearn.model_selection import train_test_split, GridSearchCV, StratifiedKFold\n",
    "from sklearn.ensemble import RandomForestClassifier, VotingClassifier\n",
    "from sklearn.metrics import accuracy_score\n",
    "from catboost import Pool, CatBoostClassifier\n",
    "from sklearn.metrics import roc_auc_score\n",
    "from sklearn.linear_model import LogisticRegression\n",
    "import warnings"
   ],
   "outputs": [],
   "execution_count": 1
  },
  {
   "cell_type": "code",
   "id": "543ad0e3-ac1b-4ff0-9199-a437bf9a0a48",
   "metadata": {
    "ExecuteTime": {
     "end_time": "2025-07-20T03:12:32.071407Z",
     "start_time": "2025-07-20T03:12:32.055015Z"
    }
   },
   "source": [
    "warnings.filterwarnings('ignore')"
   ],
   "outputs": [],
   "execution_count": 2
  },
  {
   "cell_type": "code",
   "id": "9fdad390",
   "metadata": {
    "ExecuteTime": {
     "end_time": "2025-07-20T02:57:12.566583Z",
     "start_time": "2025-07-20T02:57:12.560297Z"
    }
   },
   "source": [
    "# with zipfile.ZipFile('C:/Users/shree/Desktop/Kaggle/titanic.zip', 'r') as zip_ref:\n",
    "#     zip_ref.extractall('titanic')"
   ],
   "outputs": [],
   "execution_count": 3
  },
  {
   "cell_type": "code",
   "id": "58fc191c",
   "metadata": {
    "ExecuteTime": {
     "end_time": "2025-07-20T03:12:34.865535Z",
     "start_time": "2025-07-20T03:12:34.844364Z"
    }
   },
   "source": [
    "import os\n",
    "dataframes = {}\n",
    "for filename in os.listdir('titanic'):\n",
    "    if filename.endswith('.csv'):\n",
    "        filepath = os.path.join('titanic', filename)\n",
    "        dataframes[filename] = pd.read_csv(filepath)"
   ],
   "outputs": [],
   "execution_count": 3
  },
  {
   "cell_type": "code",
   "id": "4b279af8",
   "metadata": {
    "ExecuteTime": {
     "end_time": "2025-07-20T03:12:36.272810Z",
     "start_time": "2025-07-20T03:12:36.267145Z"
    }
   },
   "source": [
    "train = dataframes['train.csv']\n",
    "test = dataframes['test.csv']"
   ],
   "outputs": [],
   "execution_count": 4
  },
  {
   "cell_type": "code",
   "id": "fe599f62",
   "metadata": {
    "ExecuteTime": {
     "end_time": "2025-07-20T03:12:38.872895Z",
     "start_time": "2025-07-20T03:12:38.853771Z"
    }
   },
   "source": [
    "train.info()"
   ],
   "outputs": [
    {
     "name": "stdout",
     "output_type": "stream",
     "text": [
      "<class 'pandas.core.frame.DataFrame'>\n",
      "RangeIndex: 891 entries, 0 to 890\n",
      "Data columns (total 12 columns):\n",
      " #   Column       Non-Null Count  Dtype  \n",
      "---  ------       --------------  -----  \n",
      " 0   PassengerId  891 non-null    int64  \n",
      " 1   Survived     891 non-null    int64  \n",
      " 2   Pclass       891 non-null    int64  \n",
      " 3   Name         891 non-null    object \n",
      " 4   Sex          891 non-null    object \n",
      " 5   Age          714 non-null    float64\n",
      " 6   SibSp        891 non-null    int64  \n",
      " 7   Parch        891 non-null    int64  \n",
      " 8   Ticket       891 non-null    object \n",
      " 9   Fare         891 non-null    float64\n",
      " 10  Cabin        204 non-null    object \n",
      " 11  Embarked     889 non-null    object \n",
      "dtypes: float64(2), int64(5), object(5)\n",
      "memory usage: 83.7+ KB\n"
     ]
    }
   ],
   "execution_count": 5
  },
  {
   "cell_type": "code",
   "id": "b2f01a11-2d68-463c-a9ff-8f9152679b65",
   "metadata": {
    "ExecuteTime": {
     "end_time": "2025-07-20T03:12:40.127518Z",
     "start_time": "2025-07-20T03:12:40.094446Z"
    }
   },
   "source": [
    "test.info()"
   ],
   "outputs": [
    {
     "name": "stdout",
     "output_type": "stream",
     "text": [
      "<class 'pandas.core.frame.DataFrame'>\n",
      "RangeIndex: 418 entries, 0 to 417\n",
      "Data columns (total 11 columns):\n",
      " #   Column       Non-Null Count  Dtype  \n",
      "---  ------       --------------  -----  \n",
      " 0   PassengerId  418 non-null    int64  \n",
      " 1   Pclass       418 non-null    int64  \n",
      " 2   Name         418 non-null    object \n",
      " 3   Sex          418 non-null    object \n",
      " 4   Age          332 non-null    float64\n",
      " 5   SibSp        418 non-null    int64  \n",
      " 6   Parch        418 non-null    int64  \n",
      " 7   Ticket       418 non-null    object \n",
      " 8   Fare         417 non-null    float64\n",
      " 9   Cabin        91 non-null     object \n",
      " 10  Embarked     418 non-null    object \n",
      "dtypes: float64(2), int64(4), object(5)\n",
      "memory usage: 36.1+ KB\n"
     ]
    }
   ],
   "execution_count": 6
  },
  {
   "metadata": {
    "ExecuteTime": {
     "end_time": "2025-07-20T03:12:41.252255Z",
     "start_time": "2025-07-20T03:12:41.242315Z"
    }
   },
   "cell_type": "code",
   "source": "train.groupby('Survived')['PassengerId'].count()",
   "id": "1fcdf593",
   "outputs": [
    {
     "data": {
      "text/plain": [
       "Survived\n",
       "0    549\n",
       "1    342\n",
       "Name: PassengerId, dtype: int64"
      ]
     },
     "execution_count": 7,
     "metadata": {},
     "output_type": "execute_result"
    }
   ],
   "execution_count": 7
  },
  {
   "metadata": {
    "ExecuteTime": {
     "end_time": "2025-07-20T03:12:47.355782Z",
     "start_time": "2025-07-20T03:12:47.350078Z"
    }
   },
   "cell_type": "code",
   "source": "print((sum(train[\"Survived\"])/len(train[\"Survived\"])*100))",
   "id": "c38e47d6-0853-43ca-87a3-6d0a57767158",
   "outputs": [
    {
     "name": "stdout",
     "output_type": "stream",
     "text": [
      "38.38383838383838\n"
     ]
    }
   ],
   "execution_count": 8
  },
  {
   "metadata": {
    "ExecuteTime": {
     "end_time": "2025-07-20T03:12:47.875179Z",
     "start_time": "2025-07-20T03:12:47.865503Z"
    }
   },
   "cell_type": "code",
   "source": "train.groupby(['Sex','Survived'])['PassengerId'].count()",
   "id": "e5fd754d-d63f-48d3-8268-e3fd30b56e11",
   "outputs": [
    {
     "data": {
      "text/plain": [
       "Sex     Survived\n",
       "female  0            81\n",
       "        1           233\n",
       "male    0           468\n",
       "        1           109\n",
       "Name: PassengerId, dtype: int64"
      ]
     },
     "execution_count": 9,
     "metadata": {},
     "output_type": "execute_result"
    }
   ],
   "execution_count": 9
  },
  {
   "metadata": {
    "ExecuteTime": {
     "end_time": "2025-07-20T03:12:48.293680Z",
     "start_time": "2025-07-20T03:12:48.278335Z"
    }
   },
   "cell_type": "code",
   "source": "train.groupby('Ticket')['PassengerId'].count()",
   "id": "f1ad961c",
   "outputs": [
    {
     "data": {
      "text/plain": [
       "Ticket\n",
       "110152         3\n",
       "110413         3\n",
       "110465         2\n",
       "110564         1\n",
       "110813         1\n",
       "              ..\n",
       "W./C. 6608     4\n",
       "W./C. 6609     1\n",
       "W.E.P. 5734    1\n",
       "W/C 14208      1\n",
       "WE/P 5735      2\n",
       "Name: PassengerId, Length: 681, dtype: int64"
      ]
     },
     "execution_count": 10,
     "metadata": {},
     "output_type": "execute_result"
    }
   ],
   "execution_count": 10
  },
  {
   "cell_type": "code",
   "id": "af2a2b2f",
   "metadata": {
    "ExecuteTime": {
     "end_time": "2025-07-20T03:12:48.859941Z",
     "start_time": "2025-07-20T03:12:48.831099Z"
    }
   },
   "source": [
    "train['Fare'].fillna(train['Fare'].median(), inplace=True)\n",
    "train['Embarked'].fillna(train['Embarked'].mode()[0], inplace=True)\n",
    "train['Cabin'].fillna('X', inplace=True)\n",
    "train['Cabin'] = train['Cabin'].str[0].replace(\"n\", \"U\")\n",
    "train[\"FamilySize\"] = train[\"SibSp\"] + train[\"Parch\"] + 1\n",
    "train[\"IsAlone\"] = (train[\"FamilySize\"] == 1).astype(int)\n",
    "train['Title'] = train['Name'].str.extract(r' ([A-Za-z]+)\\.', expand=False)\n",
    "train['Title'] = train['Title'].replace(['Mlle', 'Ms', 'Lady', 'Countess', 'Mme', 'Dona'], 'Miss')\n",
    "train['Title'] = train['Title'].replace(['Rev', 'Don', 'Capt', 'Dr', 'Major', 'Sir', 'Col', 'Jonkheer'], 'Rare')\n",
    "train['Age'] = train.groupby([\"Title\",\"Pclass\"])['Age'].transform(lambda x: x.fillna(x.median()))\n",
    "train['Is_Child'] = (train['Title'].isin(['Master', 'Miss'])) & (train['Age'] < 18)"
   ],
   "outputs": [],
   "execution_count": 11
  },
  {
   "cell_type": "code",
   "id": "eb4a4877-7249-48ca-a2e5-cac9211e8067",
   "metadata": {
    "ExecuteTime": {
     "end_time": "2025-07-20T03:12:49.319775Z",
     "start_time": "2025-07-20T03:12:49.298051Z"
    }
   },
   "source": [
    "test['Fare'].fillna(test['Fare'].median(), inplace=True)\n",
    "test['Embarked'].fillna(test['Embarked'].mode()[0], inplace=True)\n",
    "test['Cabin'].fillna('X', inplace=True)\n",
    "test['Cabin'] = test['Cabin'].str[0].replace(\"n\", \"U\")\n",
    "test[\"FamilySize\"] = test[\"SibSp\"] + test[\"Parch\"] + 1\n",
    "test[\"IsAlone\"] = (test[\"FamilySize\"] == 1).astype(int)\n",
    "test['Title'] = test['Name'].str.extract(r' ([A-Za-z]+)\\.', expand=False)\n",
    "test['Title'] = test['Title'].replace(['Mlle', 'Ms', 'Lady', 'Countess', 'Mme', 'Dona'], 'Miss')\n",
    "test['Title'] = test['Title'].replace(['Rev', 'Don', 'Capt', 'Dr', 'Major', 'Sir', 'Col', 'Jonkheer'], 'Rare')\n",
    "test['Age'] = test.groupby([\"Title\",\"Pclass\"])['Age'].transform(lambda x: x.fillna(x.median()))\n",
    "test['Is_Child'] = (test['Title'].isin(['Master', 'Miss'])) & (test['Age'] < 18)"
   ],
   "outputs": [],
   "execution_count": 12
  },
  {
   "cell_type": "code",
   "id": "5b546e36",
   "metadata": {
    "ExecuteTime": {
     "end_time": "2025-07-20T03:12:50.650220Z",
     "start_time": "2025-07-20T03:12:50.646422Z"
    }
   },
   "source": [
    "X = ['Pclass', 'Sex', 'Age', 'SibSp', 'Parch', 'Fare', 'Cabin', 'Embarked', 'Title', 'Is_Child', 'FamilySize', 'IsAlone']\n",
    "Y = 'Survived'"
   ],
   "outputs": [],
   "execution_count": 13
  },
  {
   "cell_type": "code",
   "id": "fda2c8e3",
   "metadata": {
    "ExecuteTime": {
     "end_time": "2025-07-20T03:12:51.198277Z",
     "start_time": "2025-07-20T03:12:51.189112Z"
    }
   },
   "source": [
    "X0_train = train[X]\n",
    "Y0_train = train[Y]\n",
    "\n",
    "X1_test = test[X]\n",
    "len(X0_train), len(Y0_train)"
   ],
   "outputs": [
    {
     "data": {
      "text/plain": [
       "(891, 891)"
      ]
     },
     "execution_count": 14,
     "metadata": {},
     "output_type": "execute_result"
    }
   ],
   "execution_count": 14
  },
  {
   "cell_type": "code",
   "id": "875a6375-cf10-4156-b396-a7127691c89c",
   "metadata": {
    "ExecuteTime": {
     "end_time": "2025-07-20T03:12:51.751631Z",
     "start_time": "2025-07-20T03:12:51.742424Z"
    }
   },
   "source": [
    "# X0_train = X0_train[['Pclass', 'Sex', 'Age_buckets', 'SibSp', 'Parch', 'Fare', 'Cabin', 'Embarked', 'Title', 'Is_Child']]\n",
    "# X1_test = X1_test[['Pclass', 'Sex', 'Age_buckets', 'SibSp', 'Parch', 'Fare', 'Cabin', 'Embarked', 'Title', 'Is_Child']]\n",
    "\n",
    "X0_train = X0_train[['Pclass', 'Sex', 'Age', 'SibSp', 'Parch', 'Fare', 'Cabin', 'Embarked', 'Title', 'Is_Child', 'FamilySize', 'IsAlone']]\n",
    "X1_test = X1_test[['Pclass', 'Sex', 'Age', 'SibSp', 'Parch', 'Fare', 'Cabin', 'Embarked', 'Title', 'Is_Child', 'FamilySize', 'IsAlone']]\n",
    "\n",
    "len(X0_train), len(X1_test)"
   ],
   "outputs": [
    {
     "data": {
      "text/plain": [
       "(891, 418)"
      ]
     },
     "execution_count": 15,
     "metadata": {},
     "output_type": "execute_result"
    }
   ],
   "execution_count": 15
  },
  {
   "cell_type": "code",
   "id": "463b4f53",
   "metadata": {
    "ExecuteTime": {
     "end_time": "2025-07-20T03:12:52.993391Z",
     "start_time": "2025-07-20T03:12:52.969691Z"
    }
   },
   "source": [
    "# Initialize OneHotEncoder\n",
    "encoder = OneHotEncoder(sparse_output=False, handle_unknown='ignore')\n",
    "\n",
    "encoder.fit(X0_train[['Sex', 'Cabin', 'Embarked', 'Title']])\n",
    "\n",
    "# Fit and transform the categorical columns\n",
    "one_hot_encoded = encoder.transform(X0_train[['Sex', 'Cabin', 'Embarked', 'Title']])\n",
    "\n",
    "one_hot_encoded_X1_test = encoder.transform(X1_test[['Sex', 'Cabin', 'Embarked', 'Title']])\n",
    "\n",
    "# Create a DataFrame with the encoded columns\n",
    "one_hot_df = pd.DataFrame(one_hot_encoded, columns=encoder.get_feature_names_out())\n",
    "\n",
    "one_hot_df_X1_test = pd.DataFrame(one_hot_encoded_X1_test, columns=encoder.get_feature_names_out())\n",
    "\n",
    "# Concatenate the one-hot encoded columns with the original DataFrame\n",
    "X0_train_encoded = pd.concat([X0_train.drop(['Sex', 'Cabin', 'Embarked', 'Title'], axis=1).reset_index(drop=True), one_hot_df.reset_index(drop=True)], axis=1)\n",
    "X1_test_encoded = pd.concat([X1_test.drop(['Sex', 'Cabin', 'Embarked', 'Title'], axis=1).reset_index(drop=True), one_hot_df_X1_test.reset_index(drop=True)], axis=1)"
   ],
   "outputs": [],
   "execution_count": 16
  },
  {
   "cell_type": "code",
   "id": "7bd78fd5-8859-4dc0-8f74-c14c736a6cc7",
   "metadata": {
    "ExecuteTime": {
     "end_time": "2025-07-20T03:12:53.703977Z",
     "start_time": "2025-07-20T03:12:53.698434Z"
    }
   },
   "source": [
    "print(one_hot_encoded.shape)\n",
    "print(len(encoder.get_feature_names_out()))"
   ],
   "outputs": [
    {
     "name": "stdout",
     "output_type": "stream",
     "text": [
      "(891, 19)\n",
      "19\n"
     ]
    }
   ],
   "execution_count": 17
  },
  {
   "cell_type": "code",
   "id": "d791912a-0c8a-4ba2-a17e-fa682f030e93",
   "metadata": {
    "ExecuteTime": {
     "end_time": "2025-07-20T03:12:54.828774Z",
     "start_time": "2025-07-20T03:12:54.820990Z"
    }
   },
   "source": [
    "len(X0_train_encoded), len(X1_test_encoded)"
   ],
   "outputs": [
    {
     "data": {
      "text/plain": [
       "(891, 418)"
      ]
     },
     "execution_count": 18,
     "metadata": {},
     "output_type": "execute_result"
    }
   ],
   "execution_count": 18
  },
  {
   "cell_type": "code",
   "id": "fbc8520f-8dcd-4b6b-9529-3142db7fe859",
   "metadata": {
    "ExecuteTime": {
     "end_time": "2025-07-20T03:12:55.214620Z",
     "start_time": "2025-07-20T03:12:55.206043Z"
    }
   },
   "source": [
    "X_train, X_test, y_train, y_test = train_test_split(X0_train_encoded, Y0_train, test_size=0.20, random_state=12345)"
   ],
   "outputs": [],
   "execution_count": 19
  },
  {
   "cell_type": "code",
   "id": "ed1dc158-c165-464d-a251-24c807c96736",
   "metadata": {
    "ExecuteTime": {
     "end_time": "2025-07-20T03:12:55.624522Z",
     "start_time": "2025-07-20T03:12:55.620030Z"
    }
   },
   "source": [
    "model0 = RandomForestClassifier(n_estimators=100, max_depth=5, random_state=1)"
   ],
   "outputs": [],
   "execution_count": 20
  },
  {
   "cell_type": "code",
   "id": "3767a426-4e92-4553-a1f0-7f2a9ebbc388",
   "metadata": {
    "ExecuteTime": {
     "end_time": "2025-07-20T03:12:56.529547Z",
     "start_time": "2025-07-20T03:12:56.250143Z"
    }
   },
   "source": [
    "model0.fit(X_train, y_train)\n",
    "\n",
    "# make predictions for test data\n",
    "y_pred = model0.predict(X_test)\n",
    "predictions = [round(value) for value in y_pred]\n",
    "\n",
    "# evaluate predictions\n",
    "accuracy = accuracy_score(y_test, predictions)\n",
    "print(\"Accuracy: %.2f%%\" % (accuracy * 100.0))\n",
    "\n",
    "# make predictions for test data\n",
    "y1_pred = model0.predict(X1_test_encoded)\n",
    "predictions1 = [round(value) for value in y1_pred]\n",
    "\n",
    "y_pred_proba = model0.predict_proba(X_test)[::,1]\n",
    "print(\"Valid\",roc_auc_score(y_test,  y_pred_proba))"
   ],
   "outputs": [
    {
     "name": "stdout",
     "output_type": "stream",
     "text": [
      "Accuracy: 81.01%\n",
      "Valid 0.8472329472329473\n"
     ]
    }
   ],
   "execution_count": 21
  },
  {
   "cell_type": "code",
   "id": "ec522d0b-1ac5-4fad-a0fc-90a20ba5ba0b",
   "metadata": {
    "ExecuteTime": {
     "end_time": "2025-07-20T03:12:57.668320Z",
     "start_time": "2025-07-20T03:12:57.651622Z"
    }
   },
   "source": "model1 = CatBoostClassifier(verbose=0)",
   "outputs": [],
   "execution_count": 22
  },
  {
   "metadata": {
    "ExecuteTime": {
     "end_time": "2025-07-20T03:16:05.898025Z",
     "start_time": "2025-07-20T03:16:04.422349Z"
    }
   },
   "cell_type": "code",
   "source": [
    "model1.fit(X_train, y_train)\n",
    "\n",
    "# make predictions for test data\n",
    "y_pred = model1.predict(X_test)\n",
    "predictions = [round(value) for value in y_pred]\n",
    "\n",
    "# evaluate predictions\n",
    "accuracy = accuracy_score(y_test, predictions)\n",
    "print(\"Accuracy: %.2f%%\" % (accuracy * 100.0))\n",
    "\n",
    "# make predictions for test data\n",
    "y1_pred = model1.predict(X1_test_encoded)\n",
    "predictions1 = [round(value) for value in y1_pred]\n",
    "\n",
    "# Calculate feature importance\n",
    "feature_importances = model1.get_feature_importance(Pool(X_train, label = y_train))\n",
    "feature_names = X_train.columns\n",
    "\n",
    "# Feature importance visualization\n",
    "feature_importance_df = pd.DataFrame({\n",
    "    'Feature': feature_names,\n",
    "    'Importance': feature_importances\n",
    "})\n",
    "\n",
    "# Ordered by feature importance\n",
    "feature_importance_df = feature_importance_df.sort_values(by=\"Importance\", ascending=False)"
   ],
   "id": "9c90e904f6dae384",
   "outputs": [
    {
     "name": "stdout",
     "output_type": "stream",
     "text": [
      "Accuracy: 80.45%\n"
     ]
    }
   ],
   "execution_count": 28
  },
  {
   "cell_type": "code",
   "id": "1eca7bfd-5bac-4cd0-b67e-03d90927fcb7",
   "metadata": {
    "ExecuteTime": {
     "end_time": "2025-07-20T02:57:34.356731Z",
     "start_time": "2025-07-20T02:57:34.353511Z"
    }
   },
   "source": [
    "param_grid = {\n",
    "    'depth': [4, 6, 8],\n",
    "    'learning_rate': [0.01, 0.05, 0.1],\n",
    "    'iterations': [100, 200]\n",
    "}"
   ],
   "outputs": [],
   "execution_count": 24
  },
  {
   "cell_type": "code",
   "id": "3d64c9bf-d50c-45e0-9670-e7397a239f6c",
   "metadata": {
    "ExecuteTime": {
     "end_time": "2025-07-20T02:57:35.464632Z",
     "start_time": "2025-07-20T02:57:35.460245Z"
    }
   },
   "source": [
    "folds = 5\n",
    "param_comb = 1000\n",
    "skf = StratifiedKFold(n_splits=folds, shuffle = True, random_state = 1001)"
   ],
   "outputs": [],
   "execution_count": 25
  },
  {
   "cell_type": "code",
   "id": "1a288e91-6c30-4411-b3e6-4faaec75d496",
   "metadata": {
    "ExecuteTime": {
     "end_time": "2025-07-20T02:57:44.557895Z",
     "start_time": "2025-07-20T02:57:36.036237Z"
    }
   },
   "source": [
    "grid = GridSearchCV(estimator=model1, param_grid=param_grid, scoring='roc_auc', n_jobs=4, cv=skf.split(X_train, y_train), verbose=3 )\n",
    "grid.fit(X_train, y_train)\n",
    "print('\\n All results:')\n",
    "print(grid.cv_results_)\n",
    "print('\\n Best estimator:')\n",
    "print(grid.best_estimator_)\n",
    "print('\\n Best score:')\n",
    "print(grid.best_score_ * 2 - 1)\n",
    "print('\\n Best parameters:')\n",
    "print(grid.best_params_)\n",
    "results = pd.DataFrame(grid.cv_results_)"
   ],
   "outputs": [
    {
     "name": "stdout",
     "output_type": "stream",
     "text": [
      "Fitting 5 folds for each of 18 candidates, totalling 90 fits\n",
      "\n",
      " All results:\n",
      "{'mean_fit_time': array([0.22581415, 0.09981103, 0.10105505, 0.1784317 , 0.17909002,\n",
      "       0.18311567, 0.14266725, 0.14824605, 0.14683485, 0.25794291,\n",
      "       0.26098604, 0.26483531, 0.23887868, 0.26506777, 0.25743461,\n",
      "       0.48057399, 0.52018733, 0.52124805]), 'std_fit_time': array([0.06349005, 0.00625912, 0.00364487, 0.00499654, 0.00353631,\n",
      "       0.00372998, 0.00592451, 0.00370319, 0.00430498, 0.00197092,\n",
      "       0.00840887, 0.00547405, 0.00674122, 0.00447254, 0.00740108,\n",
      "       0.01368157, 0.01520493, 0.01122116]), 'mean_score_time': array([0.00344534, 0.00351715, 0.00327768, 0.00314312, 0.00295   ,\n",
      "       0.00279393, 0.00297594, 0.00294762, 0.00311146, 0.0031951 ,\n",
      "       0.00316572, 0.00310359, 0.00316262, 0.00293279, 0.00334501,\n",
      "       0.00293436, 0.0036202 , 0.00310736]), 'std_score_time': array([0.00077501, 0.00040489, 0.00034121, 0.00050561, 0.0004858 ,\n",
      "       0.00048941, 0.00048421, 0.00066369, 0.00031291, 0.00053621,\n",
      "       0.00053406, 0.00037361, 0.00035892, 0.00029521, 0.00057427,\n",
      "       0.00037061, 0.00013736, 0.00066664]), 'param_depth': masked_array(data=[4, 4, 4, 4, 4, 4, 6, 6, 6, 6, 6, 6, 8, 8, 8, 8, 8, 8],\n",
      "             mask=[False, False, False, False, False, False, False, False,\n",
      "                   False, False, False, False, False, False, False, False,\n",
      "                   False, False],\n",
      "       fill_value=999999), 'param_iterations': masked_array(data=[100, 100, 100, 200, 200, 200, 100, 100, 100, 200, 200,\n",
      "                   200, 100, 100, 100, 200, 200, 200],\n",
      "             mask=[False, False, False, False, False, False, False, False,\n",
      "                   False, False, False, False, False, False, False, False,\n",
      "                   False, False],\n",
      "       fill_value=999999), 'param_learning_rate': masked_array(data=[0.01, 0.05, 0.1, 0.01, 0.05, 0.1, 0.01, 0.05, 0.1,\n",
      "                   0.01, 0.05, 0.1, 0.01, 0.05, 0.1, 0.01, 0.05, 0.1],\n",
      "             mask=[False, False, False, False, False, False, False, False,\n",
      "                   False, False, False, False, False, False, False, False,\n",
      "                   False, False],\n",
      "       fill_value=1e+20), 'params': [{'depth': 4, 'iterations': 100, 'learning_rate': 0.01}, {'depth': 4, 'iterations': 100, 'learning_rate': 0.05}, {'depth': 4, 'iterations': 100, 'learning_rate': 0.1}, {'depth': 4, 'iterations': 200, 'learning_rate': 0.01}, {'depth': 4, 'iterations': 200, 'learning_rate': 0.05}, {'depth': 4, 'iterations': 200, 'learning_rate': 0.1}, {'depth': 6, 'iterations': 100, 'learning_rate': 0.01}, {'depth': 6, 'iterations': 100, 'learning_rate': 0.05}, {'depth': 6, 'iterations': 100, 'learning_rate': 0.1}, {'depth': 6, 'iterations': 200, 'learning_rate': 0.01}, {'depth': 6, 'iterations': 200, 'learning_rate': 0.05}, {'depth': 6, 'iterations': 200, 'learning_rate': 0.1}, {'depth': 8, 'iterations': 100, 'learning_rate': 0.01}, {'depth': 8, 'iterations': 100, 'learning_rate': 0.05}, {'depth': 8, 'iterations': 100, 'learning_rate': 0.1}, {'depth': 8, 'iterations': 200, 'learning_rate': 0.01}, {'depth': 8, 'iterations': 200, 'learning_rate': 0.05}, {'depth': 8, 'iterations': 200, 'learning_rate': 0.1}], 'split0_test_score': array([0.90813566, 0.91240117, 0.91312942, 0.91156887, 0.9272784 ,\n",
      "       0.92009988, 0.91573034, 0.90740741, 0.92363712, 0.9167707 ,\n",
      "       0.91697878, 0.92863088, 0.91177695, 0.92051602, 0.91302538,\n",
      "       0.91260924, 0.91885144, 0.92488556]), 'split1_test_score': array([0.83967957, 0.8545568 , 0.85185185, 0.84571369, 0.8511236 ,\n",
      "       0.84477736, 0.84113608, 0.85528506, 0.86225551, 0.84425718,\n",
      "       0.85060341, 0.84706617, 0.84332085, 0.85507699, 0.8576779 ,\n",
      "       0.84685809, 0.85497295, 0.85310029]), 'split2_test_score': array([0.90184439, 0.90862837, 0.89145643, 0.90460038, 0.8988764 ,\n",
      "       0.89400042, 0.90460038, 0.89474242, 0.88424846, 0.90354039,\n",
      "       0.89484842, 0.87725249, 0.90226839, 0.89230443, 0.88106848,\n",
      "       0.90269239, 0.88106848, 0.88552046]), 'split3_test_score': array([0.86601654, 0.8739665 , 0.88308247, 0.86792453, 0.88170447,\n",
      "       0.88244647, 0.85817257, 0.87121052, 0.87788849, 0.86495654,\n",
      "       0.8741785 , 0.86654653, 0.87131651, 0.87174051, 0.86750053,\n",
      "       0.87227051, 0.85944456, 0.86018656]), 'split4_test_score': array([0.87542088, 0.87521044, 0.87447391, 0.87521044, 0.87457912,\n",
      "       0.86679293, 0.86752946, 0.86816077, 0.86500421, 0.86731902,\n",
      "       0.8672138 , 0.86416246, 0.86258418, 0.86574074, 0.86984428,\n",
      "       0.86311027, 0.86710859, 0.8772096 ]), 'mean_test_score': array([0.87821941, 0.88495266, 0.88279882, 0.88100358, 0.8867124 ,\n",
      "       0.88162341, 0.87743377, 0.87936124, 0.88260676, 0.87936877,\n",
      "       0.88076458, 0.87673171, 0.87825338, 0.88107574, 0.87782331,\n",
      "       0.8795081 , 0.8762892 , 0.88018049]), 'std_test_score': array([0.02488045, 0.02215163, 0.0201097 , 0.02425302, 0.02542606,\n",
      "       0.02534514, 0.02825337, 0.01894579, 0.02205661, 0.02671668,\n",
      "       0.0230066 , 0.0276968 , 0.02535538, 0.02315108, 0.01910905,\n",
      "       0.02457841, 0.02305122, 0.0251753 ]), 'rank_test_score': array([14,  2,  3,  7,  1,  5, 16, 12,  4, 11,  8, 17, 13,  6, 15, 10, 18,\n",
      "        9], dtype=int32)}\n",
      "\n",
      " Best estimator:\n",
      "<catboost.core.CatBoostClassifier object at 0x0000024C72CCD0D0>\n",
      "\n",
      " Best score:\n",
      "0.7734247999034942\n",
      "\n",
      " Best parameters:\n",
      "{'depth': 4, 'iterations': 200, 'learning_rate': 0.05}\n"
     ]
    }
   ],
   "execution_count": 26
  },
  {
   "metadata": {
    "ExecuteTime": {
     "end_time": "2025-07-20T03:13:04.090572Z",
     "start_time": "2025-07-20T03:13:04.085495Z"
    }
   },
   "cell_type": "code",
   "source": "model1_1 = CatBoostClassifier(depth=4, iterations=200, learning_rate=0.05, verbose=0)",
   "id": "c4a72b4a479740a9",
   "outputs": [],
   "execution_count": 23
  },
  {
   "cell_type": "code",
   "id": "977ad5f9-2770-4712-98c4-e64d657882ad",
   "metadata": {
    "ExecuteTime": {
     "end_time": "2025-07-20T03:13:07.002641Z",
     "start_time": "2025-07-20T03:13:06.493927Z"
    }
   },
   "source": [
    "model1_1.fit(X_train, y_train)\n",
    "\n",
    "# make predictions for test data\n",
    "y_pred = model1_1.predict(X_test)\n",
    "predictions = [round(value) for value in y_pred]\n",
    "\n",
    "# evaluate predictions\n",
    "accuracy = accuracy_score(y_test, predictions)\n",
    "print(\"Accuracy: %.2f%%\" % (accuracy * 100.0))\n",
    "\n",
    "# make predictions for test data\n",
    "y1_pred = model1_1.predict(X1_test_encoded)\n",
    "predictions1 = [round(value) for value in y1_pred]\n",
    "\n",
    "# Calculate feature importance\n",
    "feature_importances = model1_1.get_feature_importance(Pool(X_train, label = y_train))\n",
    "feature_names = X_train.columns\n",
    "\n",
    "# Feature importance visualization\n",
    "feature_importance_df = pd.DataFrame({\n",
    "    'Feature': feature_names,\n",
    "    'Importance': feature_importances\n",
    "})\n",
    "\n",
    "# Ordered by feature importance\n",
    "feature_importance_df = feature_importance_df.sort_values(by=\"Importance\", ascending=False)"
   ],
   "outputs": [
    {
     "name": "stdout",
     "output_type": "stream",
     "text": [
      "Accuracy: 79.89%\n"
     ]
    }
   ],
   "execution_count": 24
  },
  {
   "cell_type": "code",
   "id": "144eae29-fb1f-48f7-87ce-b0866ead8fd1",
   "metadata": {
    "ExecuteTime": {
     "end_time": "2025-07-20T03:13:08.565699Z",
     "start_time": "2025-07-20T03:13:08.557676Z"
    }
   },
   "source": [
    "print(feature_importance_df)"
   ],
   "outputs": [
    {
     "name": "stdout",
     "output_type": "stream",
     "text": [
      "         Feature  Importance\n",
      "24      Title_Mr   15.206488\n",
      "1            Age   13.378852\n",
      "0         Pclass   11.724882\n",
      "4           Fare    9.692597\n",
      "9       Sex_male    9.572254\n",
      "8     Sex_female    8.809809\n",
      "6     FamilySize    6.827408\n",
      "2          SibSp    4.306505\n",
      "18       Cabin_X    3.834336\n",
      "22  Title_Master    2.319374\n",
      "14       Cabin_E    2.292321\n",
      "25     Title_Mrs    1.924685\n",
      "21    Embarked_S    1.736390\n",
      "3          Parch    1.480672\n",
      "5       Is_Child    1.353554\n",
      "13       Cabin_D    1.003656\n",
      "19    Embarked_C    0.722495\n",
      "12       Cabin_C    0.641809\n",
      "7        IsAlone    0.598882\n",
      "26    Title_Rare    0.563218\n",
      "11       Cabin_B    0.516261\n",
      "20    Embarked_Q    0.498731\n",
      "23    Title_Miss    0.439665\n",
      "10       Cabin_A    0.254237\n",
      "15       Cabin_F    0.169066\n",
      "16       Cabin_G    0.130336\n",
      "17       Cabin_T    0.001518\n"
     ]
    }
   ],
   "execution_count": 25
  },
  {
   "metadata": {
    "ExecuteTime": {
     "end_time": "2025-07-20T03:13:11.644827Z",
     "start_time": "2025-07-20T03:13:11.228801Z"
    }
   },
   "cell_type": "code",
   "source": [
    "# Ensemble Model\n",
    "model2 = LogisticRegression(max_iter=200)\n",
    "\n",
    "ensemble = VotingClassifier(estimators=[\n",
    "    (\"catboost\", model1_1),\n",
    "    (\"rf\", model0),\n",
    "    (\"lr\", model2)\n",
    "], voting=\"hard\")\n",
    "\n",
    "ensemble.fit(X_train, y_train)\n",
    "\n",
    "# make predictions for test data\n",
    "y_pred = ensemble.predict(X_test)\n",
    "predictions = [round(value) for value in y_pred]\n",
    "\n",
    "# evaluate predictions\n",
    "accuracy = accuracy_score(y_test, predictions)\n",
    "print(\"Accuracy: %.2f%%\" % (accuracy * 100.0))\n",
    "\n",
    "# make predictions for test data\n",
    "y1_pred = ensemble.predict(X1_test_encoded)\n",
    "predictions1 = [round(value) for value in y1_pred]"
   ],
   "id": "fecbaa8092e18047",
   "outputs": [
    {
     "name": "stdout",
     "output_type": "stream",
     "text": [
      "Accuracy: 82.12%\n"
     ]
    }
   ],
   "execution_count": 26
  },
  {
   "cell_type": "code",
   "id": "62e1b064-315f-4012-90ce-8f49ec702c84",
   "metadata": {
    "ExecuteTime": {
     "end_time": "2025-07-20T03:16:34.871656Z",
     "start_time": "2025-07-20T03:16:34.854740Z"
    }
   },
   "source": [
    "output = pd.DataFrame({'PassengerId': test.PassengerId, 'Survived': predictions1})\n",
    "output.to_csv('submission_titanic_cat_v4.csv', index=False)\n",
    "print(\"Your submission was successfully saved!\")"
   ],
   "outputs": [
    {
     "name": "stdout",
     "output_type": "stream",
     "text": [
      "Your submission was successfully saved!\n"
     ]
    }
   ],
   "execution_count": 29
  },
  {
   "metadata": {},
   "cell_type": "code",
   "outputs": [],
   "execution_count": null,
   "source": "",
   "id": "95e021ac2200b31e"
  }
 ],
 "metadata": {
  "kernelspec": {
   "display_name": "Python 3 (ipykernel)",
   "language": "python",
   "name": "python3"
  },
  "language_info": {
   "codemirror_mode": {
    "name": "ipython",
    "version": 3
   },
   "file_extension": ".py",
   "mimetype": "text/x-python",
   "name": "python",
   "nbconvert_exporter": "python",
   "pygments_lexer": "ipython3",
   "version": "3.12.7"
  }
 },
 "nbformat": 4,
 "nbformat_minor": 5
}
