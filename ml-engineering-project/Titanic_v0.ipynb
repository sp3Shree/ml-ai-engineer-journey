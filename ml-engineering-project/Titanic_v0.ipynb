{
 "cells": [
  {
   "cell_type": "code",
   "id": "2fbcc814",
   "metadata": {},
   "source": [
    "import pandas as pd\n",
    "import numpy as np\n",
    "# import zipfile\n",
    "from sklearn.preprocessing import OneHotEncoder\n",
    "from sklearn.model_selection import train_test_split, GridSearchCV, StratifiedKFold\n",
    "from sklearn.ensemble import RandomForestClassifier\n",
    "from sklearn.metrics import accuracy_score, roc_auc_score\n",
    "# from xgboost import XGBClassifier\n",
    "from sklearn.ensemble import GradientBoostingClassifier  #GBM algorithm\n",
    "# from sklearn.ensemble import AdaBoostClassifier\n",
    "# from sklearn import tree\n",
    "# import lightgbm as lgb\n",
    "# from keras import Sequential\n",
    "# from keras.layers import Dense\n",
    "from catboost import Pool, CatBoostClassifier\n",
    "import warnings"
   ],
   "outputs": [],
   "execution_count": null
  },
  {
   "cell_type": "code",
   "id": "543ad0e3-ac1b-4ff0-9199-a437bf9a0a48",
   "metadata": {},
   "source": [
    "warnings.filterwarnings('ignore')"
   ],
   "outputs": [],
   "execution_count": null
  },
  {
   "cell_type": "code",
   "id": "9fdad390",
   "metadata": {},
   "source": [
    "# with zipfile.ZipFile('titanic.zip', 'r') as zip_ref:\n",
    "#     zip_ref.extractall('titanic')"
   ],
   "outputs": [],
   "execution_count": null
  },
  {
   "cell_type": "code",
   "id": "58fc191c",
   "metadata": {},
   "source": [
    "import os\n",
    "dataframes = {}\n",
    "for filename in os.listdir('titanic'):\n",
    "    if filename.endswith('.csv'):\n",
    "        filepath = os.path.join('titanic', filename)\n",
    "        dataframes[filename] = pd.read_csv(filepath)"
   ],
   "outputs": [],
   "execution_count": null
  },
  {
   "cell_type": "code",
   "id": "4b279af8",
   "metadata": {},
   "source": [
    "train = dataframes['train.csv']\n",
    "test = dataframes['test.csv']"
   ],
   "outputs": [],
   "execution_count": null
  },
  {
   "cell_type": "code",
   "id": "fe599f62",
   "metadata": {},
   "source": [
    "train.info()"
   ],
   "outputs": [],
   "execution_count": null
  },
  {
   "cell_type": "code",
   "id": "b2f01a11-2d68-463c-a9ff-8f9152679b65",
   "metadata": {},
   "source": [
    "test.info()"
   ],
   "outputs": [],
   "execution_count": null
  },
  {
   "metadata": {},
   "cell_type": "code",
   "outputs": [],
   "execution_count": null,
   "source": "train.groupby('Survived')['PassengerId'].count()",
   "id": "1fcdf593"
  },
  {
   "metadata": {},
   "cell_type": "code",
   "outputs": [],
   "execution_count": null,
   "source": "print((sum(train[\"Survived\"])/len(train[\"Survived\"])*100))",
   "id": "c38e47d6-0853-43ca-87a3-6d0a57767158"
  },
  {
   "metadata": {},
   "cell_type": "code",
   "outputs": [],
   "execution_count": null,
   "source": "train.groupby(['Sex','Survived'])['PassengerId'].count()",
   "id": "e5fd754d-d63f-48d3-8268-e3fd30b56e11"
  },
  {
   "metadata": {},
   "cell_type": "code",
   "outputs": [],
   "execution_count": null,
   "source": "train.groupby('Ticket')['PassengerId'].count()",
   "id": "f1ad961c"
  },
  {
   "cell_type": "code",
   "id": "af2a2b2f",
   "metadata": {},
   "source": [
    "train['Age'].fillna(train['Age'].median(), inplace=True)\n",
    "train['Fare'].fillna(train['Fare'].median(), inplace=True)\n",
    "train['Embarked'].fillna('X', inplace=True)\n",
    "train['Cabin'].fillna('X', inplace=True)\n",
    "train['Cabin'] = train['Cabin'].str[0]\n",
    "train['Title'] = train['Name'].str.extract(r' ([A-Za-z]+)\\.', expand=False)\n",
    "train['Title'] = train['Title'].replace(['Mlle', 'Ms', 'Lady', 'Countess', 'Mme', 'Dona'], 'Miss')\n",
    "train['Title'] = train['Title'].replace(['Rev', 'Don', 'Capt', 'Major', 'Sir', 'Col', 'Jonkheer'], 'Rare')\n",
    "train['Is_Child'] = (train['Title'].isin(['Master', 'Miss'])) & (train['Age'] < 18)"
   ],
   "outputs": [],
   "execution_count": null
  },
  {
   "cell_type": "code",
   "id": "eb4a4877-7249-48ca-a2e5-cac9211e8067",
   "metadata": {},
   "source": [
    "test['Age'].fillna(test['Age'].median(), inplace=True)\n",
    "test['Fare'].fillna(test['Fare'].median(), inplace=True)\n",
    "test['Embarked'].fillna('X', inplace=True)\n",
    "test['Cabin'].fillna('X', inplace=True)\n",
    "test['Cabin'] = test['Cabin'].str[0]\n",
    "test['Title'] = test['Name'].str.extract(r' ([A-Za-z]+)\\.', expand=False)\n",
    "test['Title'] = test['Title'].replace(['Mlle', 'Ms', 'Lady', 'Countess', 'Mme', 'Dona'], 'Miss')\n",
    "test['Title'] = test['Title'].replace(['Rev', 'Don', 'Capt', 'Major', 'Sir', 'Col', 'Jonkheer'], 'Rare')\n",
    "test['Is_Child'] = (test['Title'].isin(['Master', 'Miss'])) & (test['Age'] < 18)"
   ],
   "outputs": [],
   "execution_count": null
  },
  {
   "cell_type": "code",
   "id": "5b546e36",
   "metadata": {},
   "source": [
    "X = ['Pclass', 'Sex', 'Age', 'SibSp', 'Parch', 'Ticket', 'Fare', 'Cabin', 'Embarked', 'Title', 'Is_Child']\n",
    "Y = 'Survived'"
   ],
   "outputs": [],
   "execution_count": null
  },
  {
   "cell_type": "code",
   "id": "fda2c8e3",
   "metadata": {},
   "source": [
    "X0_train = train[X]\n",
    "Y0_train = train[Y]\n",
    "\n",
    "X1_test = test[X]\n",
    "len(X0_train), len(Y0_train)"
   ],
   "outputs": [],
   "execution_count": null
  },
  {
   "cell_type": "code",
   "id": "4f59f8c9",
   "metadata": {},
   "source": [
    "Bucket = [0, 10, 18, 25, 30, 40, 60, 80, 100]\n",
    "Label = ['0-10', '11-18', '19-25', \n",
    "         '26-30', '31-40', '41-60', '61-80', '>80']\n",
    "\n",
    "X0_train['Age_buckets'] = pd.cut(X0_train['Age'],\n",
    "                                      bins=Bucket, \n",
    "                                      labels=Label, \n",
    "                                      include_lowest= True)\n",
    "\n",
    "X1_test['Age_buckets'] = pd.cut(test['Age'],\n",
    "                                      bins=Bucket, \n",
    "                                      labels=Label, \n",
    "                                      include_lowest= True)"
   ],
   "outputs": [],
   "execution_count": null
  },
  {
   "cell_type": "code",
   "id": "875a6375-cf10-4156-b396-a7127691c89c",
   "metadata": {},
   "source": [
    "# X0_train = X0_train[['Pclass', 'Sex', 'Age_buckets', 'SibSp', 'Parch', 'Ticket', 'Fare', 'Cabin', 'Embarked', 'Title', 'Is_Child']]\n",
    "# X1_test = X1_test[['Pclass', 'Sex', 'Age_buckets', 'SibSp', 'Parch', 'Ticket', 'Fare', 'Cabin', 'Embarked', 'Title', 'Is_Child']]\n",
    "\n",
    "X0_train = X0_train[['Pclass', 'Sex', 'Age', 'SibSp', 'Parch', 'Ticket', 'Fare', 'Cabin', 'Embarked', 'Title', 'Is_Child']]\n",
    "X1_test = X1_test[['Pclass', 'Sex', 'Age', 'SibSp', 'Parch', 'Ticket', 'Fare', 'Cabin', 'Embarked', 'Title', 'Is_Child']]"
   ],
   "outputs": [],
   "execution_count": null
  },
  {
   "cell_type": "code",
   "id": "463b4f53",
   "metadata": {},
   "source": [
    "# Initialize OneHotEncoder\n",
    "encoder = OneHotEncoder(sparse_output=False, handle_unknown='ignore')\n",
    "\n",
    "encoder.fit(X0_train[['Pclass', 'Sex', 'SibSp', 'Parch', 'Ticket', 'Cabin', 'Embarked', 'Title', 'Is_Child']])\n",
    "\n",
    "# Fit and transform the categorical columns\n",
    "one_hot_encoded = encoder.transform(X0_train[['Pclass', 'Sex', 'SibSp', 'Parch', 'Ticket', 'Cabin', 'Embarked', 'Title', 'Is_Child']])\n",
    "\n",
    "one_hot_encoded_X1_test = encoder.transform(X1_test[['Pclass', 'Sex', 'SibSp', 'Parch', 'Ticket', 'Cabin', 'Embarked', 'Title', 'Is_Child']])\n",
    "\n",
    "# Create a DataFrame with the encoded columns\n",
    "one_hot_df = pd.DataFrame(one_hot_encoded, columns=encoder.get_feature_names_out())\n",
    "\n",
    "one_hot_df_X1_test = pd.DataFrame(one_hot_encoded_X1_test, columns=encoder.get_feature_names_out())\n",
    "\n",
    "# Concatenate the one-hot encoded columns with the original DataFrame\n",
    "X0_train_encoded = pd.concat([X0_train.drop(['Pclass', 'Sex', 'SibSp', 'Parch', 'Ticket', 'Cabin', 'Embarked', 'Title', 'Is_Child'], axis=1).reset_index(drop=True), one_hot_df.reset_index(drop=True)], axis=1)\n",
    "X1_test_encoded = pd.concat([X1_test.drop(['Pclass', 'Sex', 'SibSp', 'Parch', 'Ticket', 'Cabin', 'Embarked', 'Title', 'Is_Child'], axis=1).reset_index(drop=True), one_hot_df_X1_test.reset_index(drop=True)], axis=1)"
   ],
   "outputs": [],
   "execution_count": null
  },
  {
   "cell_type": "code",
   "id": "7bd78fd5-8859-4dc0-8f74-c14c736a6cc7",
   "metadata": {},
   "source": [
    "print(one_hot_encoded.shape)\n",
    "print(len(encoder.get_feature_names_out()))"
   ],
   "outputs": [],
   "execution_count": null
  },
  {
   "cell_type": "code",
   "id": "fbc8520f-8dcd-4b6b-9529-3142db7fe859",
   "metadata": {},
   "source": [
    "X_train, X_test, y_train, y_test = train_test_split(X0_train_encoded, Y0_train, test_size=0.20, random_state=12345)"
   ],
   "outputs": [],
   "execution_count": null
  },
  {
   "cell_type": "code",
   "id": "ed1dc158-c165-464d-a251-24c807c96736",
   "metadata": {},
   "source": [
    "model0 = RandomForestClassifier(n_estimators=100, max_depth=5, random_state=1)"
   ],
   "outputs": [],
   "execution_count": null
  },
  {
   "cell_type": "code",
   "id": "3767a426-4e92-4553-a1f0-7f2a9ebbc388",
   "metadata": {},
   "source": [
    "model0.fit(X_train, y_train)\n",
    "\n",
    "# make predictions for test data\n",
    "y_pred = model0.predict(X_test)\n",
    "predictions = [round(value) for value in y_pred]\n",
    "\n",
    "# evaluate predictions\n",
    "accuracy = accuracy_score(y_test, predictions)\n",
    "print(\"Accuracy: %.2f%%\" % (accuracy * 100.0))\n",
    "\n",
    "# make predictions for test data\n",
    "y1_pred = model0.predict(X1_test_encoded)\n",
    "predictions1 = [round(value) for value in y1_pred]\n",
    "\n",
    "y_pred_proba = model0.predict_proba(X_test)[::,1]\n",
    "print(\"Valid\",roc_auc_score(y_test,  y_pred_proba))"
   ],
   "outputs": [],
   "execution_count": null
  },
  {
   "cell_type": "code",
   "id": "d5d31a79-fee6-46d0-9044-9383e5b85c0e",
   "metadata": {},
   "source": [
    "model1 = XGBClassifier(\n",
    "    alpha=10, base_score=0.5, booster='gbtree', colsample_bylevel=1,\n",
    "              colsample_bynode=1, colsample_bytree=0.8, gamma=0.0,\n",
    "              learning_rate=0.11, max_delta_step=0.5, max_depth=15,\n",
    "              min_child_weight=2, missing=np.nan, n_estimators=300, n_jobs=1,\n",
    "              objective='binary:logistic', random_state=0,\n",
    "              reg_alpha=0.3, reg_lambda=1, scale_pos_weight=1, seed=None,\n",
    "              silent=False, subsample=0.8, verbosity=1\n",
    ")"
   ],
   "outputs": [],
   "execution_count": null
  },
  {
   "cell_type": "code",
   "id": "f45eedc8-f0fc-4804-9dc8-c15dda1bcb38",
   "metadata": {},
   "source": [
    "params = {\n",
    "        'min_child_weight': [1, 2, 3, 4, 5, 6, 7, 8, 9, 10],\n",
    "        'gamma': [0, 0.5, 1, 1.5, 2, 5],\n",
    "        'subsample': [0.6, 0.8, 1.0],\n",
    "        'colsample_bytree': [0.6, 0.8, 1.0],\n",
    "        'max_depth': [3, 4, 5],\n",
    "        'iterations':[10,20,],\n",
    "        'learning_rate':[0.1,0.01,0.001]\n",
    "        }"
   ],
   "outputs": [],
   "execution_count": null
  },
  {
   "cell_type": "code",
   "id": "9f33f443-92b1-48cf-98ec-da7bf0ec0d09",
   "metadata": {},
   "source": [
    "folds = 5\n",
    "param_comb = 1000\n",
    "skf = StratifiedKFold(n_splits=folds, shuffle = True, random_state = 1001)"
   ],
   "outputs": [],
   "execution_count": null
  },
  {
   "cell_type": "code",
   "id": "6bfc12bc-98c9-4e6b-8caf-5893dd01f246",
   "metadata": {},
   "source": [
    "grid = GridSearchCV(estimator=model1, param_grid=params, scoring='roc_auc', n_jobs=4, cv=skf.split(X0_train_encoded, Y0_train), verbose=3 )\n",
    "grid.fit(X0_train_encoded, Y0_train)\n",
    "print('\\n All results:')\n",
    "print(grid.cv_results_)\n",
    "print('\\n Best estimator:')\n",
    "print(grid.best_estimator_)\n",
    "print('\\n Best score:')\n",
    "print(grid.best_score_ * 2 - 1)\n",
    "print('\\n Best parameters:')\n",
    "print(grid.best_params_)\n",
    "results = pd.DataFrame(grid.cv_results_)"
   ],
   "outputs": [],
   "execution_count": null
  },
  {
   "cell_type": "code",
   "id": "b974692d-f598-4458-ab70-6ef2484aca0c",
   "metadata": {},
   "source": [
    "model1.fit(X_train, y_train)\n",
    "\n",
    "# make predictions for test data\n",
    "y_pred = model1.predict(X_test)\n",
    "predictions = [round(value) for value in y_pred]\n",
    "\n",
    "# evaluate predictions\n",
    "accuracy = accuracy_score(y_test, predictions)\n",
    "print(\"Accuracy: %.2f%%\" % (accuracy * 100.0))\n",
    "\n",
    "# make predictions for test data\n",
    "# y1_pred = model1.predict(X1_test_encoded)\n",
    "# predictions1 = [round(value) for value in y1_pred]\n",
    "\n",
    "y1_pred = grid.best_estimator_.predict_proba(X1_test_encoded)\n",
    "results_df = pd.DataFrame(data={'PassengerId':test['PassengerId'], 'Survived':y1_pred[:,1]})\n",
    "\n",
    "from sklearn.metrics import roc_auc_score\n",
    "y_pred_proba = model1.predict_proba(X_test)[::,1]\n",
    "print(\"Valid\",roc_auc_score(y_test,  y_pred_proba))"
   ],
   "outputs": [],
   "execution_count": null
  },
  {
   "cell_type": "code",
   "id": "50a8bcc5-6391-4dfa-b7d4-9fc2438f2d70",
   "metadata": {},
   "source": [
    "model2 = AdaBoostClassifier(estimator = tree.DecisionTreeClassifier(class_weight=None, criterion='gini', max_depth=None,\n",
    "                       max_features=None, max_leaf_nodes=None,\n",
    "                       min_impurity_decrease=0.0,\n",
    "                       min_samples_leaf=1, min_samples_split=2,\n",
    "                       min_weight_fraction_leaf=0.0,\n",
    "                       random_state=None, splitter='best' ))"
   ],
   "outputs": [],
   "execution_count": null
  },
  {
   "cell_type": "code",
   "id": "38f4240a-e130-4e31-9b1f-439a52a54ae0",
   "metadata": {},
   "source": [
    "model2.fit(X_train, y_train)\n",
    "\n",
    "# make predictions for test data\n",
    "y_pred = model2.predict(X_test)\n",
    "predictions = [round(value) for value in y_pred]\n",
    "\n",
    "# evaluate predictions\n",
    "accuracy = accuracy_score(y_test, predictions)\n",
    "print(\"Accuracy: %.2f%%\" % (accuracy * 100.0))\n",
    "\n",
    "# make predictions for test data\n",
    "y1_pred = model2.predict(X1_test_encoded)\n",
    "predictions1 = [round(value) for value in y1_pred]\n",
    "\n",
    "from sklearn.metrics import roc_auc_score\n",
    "y_pred_proba = model2.predict_proba(X_test)[::,1]\n",
    "print(\"Valid\",roc_auc_score(y_test,  y_pred_proba))"
   ],
   "outputs": [],
   "execution_count": null
  },
  {
   "cell_type": "code",
   "id": "486a6972-b7a5-469b-9e59-5070f7772025",
   "metadata": {},
   "source": [
    "model3 = tree.DecisionTreeClassifier()"
   ],
   "outputs": [],
   "execution_count": null
  },
  {
   "cell_type": "code",
   "id": "a4a72aab-0600-47e1-9b93-6b68765446a7",
   "metadata": {},
   "source": [
    "model3.fit(X_train, y_train)\n",
    "\n",
    "# make predictions for test data\n",
    "y_pred = model3.predict(X_test)\n",
    "predictions = [round(value) for value in y_pred]\n",
    "\n",
    "# evaluate predictions\n",
    "accuracy = accuracy_score(y_test, predictions)\n",
    "print(\"Accuracy: %.2f%%\" % (accuracy * 100.0))\n",
    "\n",
    "# make predictions for test data\n",
    "y1_pred = model3.predict(X1_test_encoded)\n",
    "predictions1 = [round(value) for value in y1_pred]\n",
    "\n",
    "from sklearn.metrics import roc_auc_score\n",
    "y_pred_proba = model3.predict_proba(X_test)[::,1]\n",
    "print(\"Valid\",roc_auc_score(y_test,  y_pred_proba))"
   ],
   "outputs": [],
   "execution_count": null
  },
  {
   "cell_type": "code",
   "id": "188e5f3e-e860-4bdd-8b46-8820e8e13a68",
   "metadata": {},
   "source": [
    "model4 = lgb.LGBMClassifier(colsample_bytree = 0.952164731370897, min_child_samples = 111, min_child_weight = 0.01, num_leaves = 38, reg_alpha = 0, reg_lambda = 0.1, subsample = 0.3029313662262354)"
   ],
   "outputs": [],
   "execution_count": null
  },
  {
   "cell_type": "code",
   "id": "f44285f3-2e03-4654-a4e3-3af7cffbcedf",
   "metadata": {},
   "source": [
    "model4.fit(X_train, y_train)\n",
    "\n",
    "# make predictions for test data\n",
    "y_pred = model4.predict(X_test)\n",
    "predictions = [round(value) for value in y_pred]\n",
    "\n",
    "# evaluate predictions\n",
    "accuracy = accuracy_score(y_test, predictions)\n",
    "print(\"Accuracy: %.2f%%\" % (accuracy * 100.0))\n",
    "\n",
    "# make predictions for test data\n",
    "y1_pred = model4.predict(X1_test_encoded)\n",
    "predictions1 = [round(value) for value in y1_pred]\n",
    "\n",
    "from sklearn.metrics import roc_auc_score\n",
    "y_pred_proba = model4.predict_proba(X_test)[::,1]\n",
    "print(\"Valid\",roc_auc_score(y_test,  y_pred_proba))"
   ],
   "outputs": [],
   "execution_count": null
  },
  {
   "cell_type": "code",
   "id": "84b19220-4f32-4926-82b2-8c685121ae0b",
   "metadata": {},
   "source": [
    "model5 = Sequential()\n",
    "#First Hidden Layer\n",
    "model5.add(Dense(729, activation='tanh', kernel_initializer='random_normal', input_dim=729))\n",
    "#Second  Hidden Layer\n",
    "model5.add(Dense(360, activation='tanh', kernel_initializer='random_normal'))\n",
    "#Third  Hidden Layer\n",
    "model5.add(Dense(120, activation='tanh', kernel_initializer='random_normal'))\n",
    "#Fourth  Hidden Layer\n",
    "model5.add(Dense(60, activation='tanh', kernel_initializer='random_normal'))\n",
    "#Output Layer\n",
    "model5.add(Dense(14, activation='sigmoid', kernel_initializer='random_normal'))\n",
    "#Output Layer\n",
    "model5.add(Dense(1, activation='sigmoid', kernel_initializer='random_normal'))\n",
    "#Compiling the neural network\n",
    "model5.compile(optimizer ='adam',loss='binary_crossentropy', metrics =['accuracy'])\n",
    "\n",
    "#Fitting the data to the training dataset\n",
    "model5.fit(X_train,y_train, batch_size=50, epochs=25)\n",
    "\n",
    "eval_model=model5.evaluate(X_train, y_train)\n",
    "# eval_model\n",
    "\n",
    "y_pred =model5.predict(X_test)\n",
    "y_pred =(y_pred>0.7)\n",
    "\n",
    "from sklearn.metrics import confusion_matrix\n",
    "cm1 = confusion_matrix(y_test, y_pred)\n",
    "print(cm1)"
   ],
   "outputs": [],
   "execution_count": null
  },
  {
   "cell_type": "code",
   "id": "8aae944b-6131-47c1-b99d-092cd160c3bb",
   "metadata": {},
   "source": [
    "# make predictions for test data\n",
    "y1_pred = model5.predict(X1_test_encoded)\n",
    "predictions1 = [round(value[0]) for value in y1_pred.tolist()]"
   ],
   "outputs": [],
   "execution_count": null
  },
  {
   "cell_type": "code",
   "id": "ec522d0b-1ac5-4fad-a0fc-90a20ba5ba0b",
   "metadata": {},
   "source": [
    "model6 = CatBoostClassifier(cat_features=['Pclass', 'Sex', 'SibSp', 'Parch', 'Ticket', 'Cabin', 'Embarked', 'Title', 'Is_Child'], verbose=0)"
   ],
   "outputs": [],
   "execution_count": null
  },
  {
   "cell_type": "code",
   "id": "971210b2-1bd3-4c4a-9fac-960232f2f14a",
   "metadata": {},
   "source": [
    "X_train_cat, X_test_cat, y_train_cat, y_test_cat = train_test_split(X0_train, Y0_train, test_size=0.20, random_state=12345)"
   ],
   "outputs": [],
   "execution_count": null
  },
  {
   "metadata": {},
   "cell_type": "code",
   "outputs": [],
   "execution_count": null,
   "source": [
    "model6.fit(X_train_cat, y_train_cat, cat_features = ['Pclass', 'Sex', 'SibSp', 'Parch', 'Ticket', 'Cabin', 'Embarked', 'Title', 'Is_Child'])\n",
    "\n",
    "# make predictions for test data\n",
    "y_pred = model6.predict(X_test_cat)\n",
    "predictions = [round(value) for value in y_pred]\n",
    "\n",
    "# evaluate predictions\n",
    "accuracy = accuracy_score(y_test_cat, predictions)\n",
    "print(\"Accuracy: %.2f%%\" % (accuracy * 100.0))\n",
    "\n",
    "# make predictions for test data\n",
    "y1_pred = model6.predict(X1_test)\n",
    "predictions1 = [round(value) for value in y1_pred]\n",
    "\n",
    "# Calculate feature importance\n",
    "feature_importances = model6.get_feature_importance(Pool(X_train_cat, label = y_train_cat, cat_features = ['Pclass', 'Sex', 'SibSp', 'Parch', 'Ticket', 'Cabin', 'Embarked', 'Title', 'Is_Child']))\n",
    "feature_names = X_train_cat.columns\n",
    "\n",
    "# Feature importance visualization\n",
    "feature_importance_df = pd.DataFrame({\n",
    "    'Feature': feature_names,\n",
    "    'Importance': feature_importances\n",
    "})\n",
    "# Ordered by feature importance\n",
    "feature_importance_df = feature_importance_df.sort_values(by=\"Importance\", ascending=False)"
   ],
   "id": "cf9eabce9b2d1ad2"
  },
  {
   "cell_type": "code",
   "id": "1eca7bfd-5bac-4cd0-b67e-03d90927fcb7",
   "metadata": {},
   "source": [
    "param_grid = {\n",
    "    'depth': [4, 6, 8],\n",
    "    'learning_rate': [0.01, 0.05, 0.1],\n",
    "    'iterations': [100, 200]\n",
    "}"
   ],
   "outputs": [],
   "execution_count": null
  },
  {
   "cell_type": "code",
   "id": "3d64c9bf-d50c-45e0-9670-e7397a239f6c",
   "metadata": {},
   "source": [
    "folds = 5\n",
    "param_comb = 1000\n",
    "skf = StratifiedKFold(n_splits=folds, shuffle = True, random_state = 1001)"
   ],
   "outputs": [],
   "execution_count": null
  },
  {
   "cell_type": "code",
   "id": "1a288e91-6c30-4411-b3e6-4faaec75d496",
   "metadata": {},
   "source": [
    "grid = GridSearchCV(estimator=model6, param_grid=param_grid, scoring='roc_auc', n_jobs=4, cv=skf.split(X_train_cat, y_train_cat), verbose=3 )\n",
    "grid.fit(X_train_cat, y_train_cat)\n",
    "print('\\n All results:')\n",
    "print(grid.cv_results_)\n",
    "print('\\n Best estimator:')\n",
    "print(grid.best_estimator_)\n",
    "print('\\n Best score:')\n",
    "print(grid.best_score_ * 2 - 1)\n",
    "print('\\n Best parameters:')\n",
    "print(grid.best_params_)\n",
    "results = pd.DataFrame(grid.cv_results_)"
   ],
   "outputs": [],
   "execution_count": null
  },
  {
   "metadata": {},
   "cell_type": "code",
   "source": "model6_1 = CatBoostClassifier(depth=4, iterations=200, learning_rate=0.1, verbose=0)",
   "id": "428d0ee9c1867691",
   "outputs": [],
   "execution_count": null
  },
  {
   "cell_type": "code",
   "id": "977ad5f9-2770-4712-98c4-e64d657882ad",
   "metadata": {},
   "source": [
    "model6_1.fit(X_train_cat, y_train_cat, cat_features = ['Pclass', 'Sex', 'SibSp', 'Parch', 'Ticket', 'Cabin', 'Embarked', 'Title', 'Is_Child'])\n",
    "\n",
    "# make predictions for test data\n",
    "y_pred = model6_1.predict(X_test_cat)\n",
    "predictions = [round(value) for value in y_pred]\n",
    "\n",
    "# evaluate predictions\n",
    "accuracy = accuracy_score(y_test_cat, predictions)\n",
    "print(\"Accuracy: %.2f%%\" % (accuracy * 100.0))\n",
    "\n",
    "# make predictions for test data\n",
    "y1_pred = model6_1.predict(X1_test)\n",
    "predictions1 = [round(value) for value in y1_pred]\n",
    "\n",
    "# Calculate feature importance\n",
    "feature_importances = model6_1.get_feature_importance(Pool(X_train_cat, label = y_train_cat, cat_features = ['Pclass', 'Sex', 'SibSp', 'Parch', 'Ticket', 'Cabin', 'Embarked', 'Title', 'Is_Child']))\n",
    "feature_names = X_train_cat.columns\n",
    "\n",
    "# Feature importance visualization\n",
    "feature_importance_df = pd.DataFrame({\n",
    "    'Feature': feature_names,\n",
    "    'Importance': feature_importances\n",
    "})\n",
    "# Ordered by feature importance\n",
    "feature_importance_df = feature_importance_df.sort_values(by=\"Importance\", ascending=False)"
   ],
   "outputs": [],
   "execution_count": null
  },
  {
   "cell_type": "code",
   "id": "144eae29-fb1f-48f7-87ce-b0866ead8fd1",
   "metadata": {},
   "source": [
    "print(feature_importance_df)"
   ],
   "outputs": [],
   "execution_count": null
  },
  {
   "cell_type": "code",
   "id": "62e1b064-315f-4012-90ce-8f49ec702c84",
   "metadata": {},
   "source": [
    "output = pd.DataFrame({'PassengerId': test.PassengerId, 'Survived': predictions1})\n",
    "output.to_csv('submission_titanic_cat_v3.csv', index=False)\n",
    "print(\"Your submission was successfully saved!\")"
   ],
   "outputs": [],
   "execution_count": null
  }
 ],
 "metadata": {
  "kernelspec": {
   "display_name": "Python 3 (ipykernel)",
   "language": "python",
   "name": "python3"
  },
  "language_info": {
   "codemirror_mode": {
    "name": "ipython",
    "version": 3
   },
   "file_extension": ".py",
   "mimetype": "text/x-python",
   "name": "python",
   "nbconvert_exporter": "python",
   "pygments_lexer": "ipython3",
   "version": "3.12.7"
  }
 },
 "nbformat": 4,
 "nbformat_minor": 5
}
