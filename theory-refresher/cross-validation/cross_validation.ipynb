{
 "cells": [
  {
   "cell_type": "code",
   "id": "initial_id",
   "metadata": {
    "collapsed": true,
    "ExecuteTime": {
     "end_time": "2025-07-19T04:23:49.060076Z",
     "start_time": "2025-07-19T04:23:47.658184Z"
    }
   },
   "source": [
    "from sklearn.datasets import load_iris\n",
    "from sklearn.linear_model import LogisticRegression\n",
    "from sklearn.model_selection import cross_val_score, StratifiedKFold\n",
    "\n",
    "X, y = load_iris(return_X_y=True)\n",
    "model = LogisticRegression(max_iter=200)\n",
    "\n",
    "# 5-Fold Stratified Cross-Validation\n",
    "scores = cross_val_score(model, X, y, cv=StratifiedKFold(n_splits=5))\n",
    "\n",
    "print(\"Accuracy Scores:\", scores)\n",
    "print(\"Average Accuracy:\", scores.mean())"
   ],
   "outputs": [
    {
     "name": "stdout",
     "output_type": "stream",
     "text": [
      "Accuracy Scores: [0.96666667 1.         0.93333333 0.96666667 1.        ]\n",
      "Average Accuracy: 0.9733333333333334\n"
     ]
    }
   ],
   "execution_count": 1
  }
 ],
 "metadata": {
  "kernelspec": {
   "display_name": "Python 3",
   "language": "python",
   "name": "python3"
  },
  "language_info": {
   "codemirror_mode": {
    "name": "ipython",
    "version": 2
   },
   "file_extension": ".py",
   "mimetype": "text/x-python",
   "name": "python",
   "nbconvert_exporter": "python",
   "pygments_lexer": "ipython2",
   "version": "2.7.6"
  }
 },
 "nbformat": 4,
 "nbformat_minor": 5
}
